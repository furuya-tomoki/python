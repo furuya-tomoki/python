{
 "cells": [
  {
   "cell_type": "code",
   "execution_count": 1,
   "id": "56f9927c-07b6-4c7a-a73e-3b916508a00e",
   "metadata": {},
   "outputs": [
    {
     "name": "stdout",
     "output_type": "stream",
     "text": [
      "Hello World\n"
     ]
    }
   ],
   "source": [
    "print (\"Hello World\")"
   ]
  },
  {
   "cell_type": "code",
   "execution_count": 2,
   "id": "b4959629-d3a8-4671-809e-33d74536f005",
   "metadata": {},
   "outputs": [
    {
     "name": "stdout",
     "output_type": "stream",
     "text": [
      "7\n"
     ]
    }
   ],
   "source": [
    "print(7)"
   ]
  },
  {
   "cell_type": "code",
   "execution_count": 3,
   "id": "b0729b5d-a1ab-42b6-9112-9ef8e3db0f2f",
   "metadata": {},
   "outputs": [
    {
     "name": "stdout",
     "output_type": "stream",
     "text": [
      "12\n"
     ]
    }
   ],
   "source": [
    "print(9 + 3)"
   ]
  },
  {
   "cell_type": "code",
   "execution_count": 4,
   "id": "5f5c72ed-b6c3-434e-a395-920743fcdbc3",
   "metadata": {},
   "outputs": [
    {
     "name": "stdout",
     "output_type": "stream",
     "text": [
      "9 + 3\n"
     ]
    }
   ],
   "source": [
    "print(\"9 + 3\")"
   ]
  },
  {
   "cell_type": "code",
   "execution_count": 5,
   "id": "f09cc744-e0af-4195-8204-e1f6ff35c19e",
   "metadata": {},
   "outputs": [
    {
     "name": "stdout",
     "output_type": "stream",
     "text": [
      "4.5\n"
     ]
    }
   ],
   "source": [
    "print(9 / 2)"
   ]
  },
  {
   "cell_type": "code",
   "execution_count": 6,
   "id": "8eed2745-aae8-4c6f-855a-6d32bf04cadc",
   "metadata": {},
   "outputs": [
    {
     "name": "stdout",
     "output_type": "stream",
     "text": [
      "35\n"
     ]
    }
   ],
   "source": [
    "print(7 * 5)"
   ]
  },
  {
   "cell_type": "code",
   "execution_count": 7,
   "id": "2cc6da5b-7964-4cc2-a3fd-dc7b318cfa4f",
   "metadata": {},
   "outputs": [
    {
     "name": "stdout",
     "output_type": "stream",
     "text": [
      "1\n"
     ]
    }
   ],
   "source": [
    "print(5 % 2)"
   ]
  },
  {
   "cell_type": "code",
   "execution_count": 8,
   "id": "db3b99ef-d7ba-4bd9-a6bb-cb9f5262d734",
   "metadata": {},
   "outputs": [
    {
     "name": "stdout",
     "output_type": "stream",
     "text": [
      "25\n"
     ]
    }
   ],
   "source": [
    "length = 5\n",
    "area = length * length\n",
    "print(area)"
   ]
  },
  {
   "cell_type": "code",
   "execution_count": 9,
   "id": "e163db36-96c9-42ef-9c13-aaf1d0825775",
   "metadata": {},
   "outputs": [
    {
     "name": "stdout",
     "output_type": "stream",
     "text": [
      "5\n",
      "11\n"
     ]
    }
   ],
   "source": [
    "x = 5\n",
    "print(x)\n",
    "x = 11\n",
    "print(x)"
   ]
  },
  {
   "cell_type": "code",
   "execution_count": 10,
   "id": "3fdf3fab-2109-4a5f-a069-c1cf462a658d",
   "metadata": {},
   "outputs": [
    {
     "name": "stdout",
     "output_type": "stream",
     "text": [
      "300\n"
     ]
    }
   ],
   "source": [
    "count = \"3\"\n",
    "price = 100\n",
    "total_price = price * int(count)\n",
    "print(total_price)"
   ]
  },
  {
   "cell_type": "code",
   "execution_count": 11,
   "id": "c1830d16-3e5d-4ce9-ba7a-b048d735c81d",
   "metadata": {},
   "outputs": [
    {
     "name": "stdout",
     "output_type": "stream",
     "text": [
      "できた\n"
     ]
    }
   ],
   "source": [
    "score = 100\n",
    "if score == 100:\n",
    "     # if文の後に「:」忘れないように\n",
    "    print(\"できた\")"
   ]
  },
  {
   "cell_type": "code",
   "execution_count": 13,
   "id": "20cf38a3-5a2f-4288-82a6-859b39382b39",
   "metadata": {},
   "outputs": [],
   "source": [
    "score = 50\n",
    "if score == 100:\n",
    "    print(\"できた\")\n",
    "    print(\"頑張る\")"
   ]
  },
  {
   "cell_type": "code",
   "execution_count": null,
   "id": "eb97659b-06be-4e17-94b9-b5b0638bbda9",
   "metadata": {},
   "outputs": [],
   "source": []
  },
  {
   "cell_type": "code",
   "execution_count": 14,
   "id": "e14d0138-1480-47e8-9661-146d3f88670b",
   "metadata": {},
   "outputs": [
    {
     "name": "stdout",
     "output_type": "stream",
     "text": [
      "できた\n",
      "頑張る\n"
     ]
    }
   ],
   "source": [
    "score = 50\n",
    "if score == 50:\n",
    "    print(\"できた\")\n",
    "    print(\"頑張る\")"
   ]
  },
  {
   "cell_type": "code",
   "execution_count": 15,
   "id": "a9dd2d1a-ab96-43cf-99bb-a85a8825d33c",
   "metadata": {},
   "outputs": [
    {
     "name": "stdout",
     "output_type": "stream",
     "text": [
      "できた\n",
      "True\n"
     ]
    }
   ],
   "source": [
    "score = 100\n",
    "if score == 100:\n",
    "    print(\"できた\")\n",
    "    \n",
    "    \n",
    "score = 100\n",
    "print(score == 100)"
   ]
  },
  {
   "cell_type": "code",
   "execution_count": 18,
   "id": "d751ac38-a9ff-4992-893b-46502d21bef7",
   "metadata": {},
   "outputs": [
    {
     "name": "stdout",
     "output_type": "stream",
     "text": [
      "頑張る\n"
     ]
    }
   ],
   "source": [
    "score = 50\n",
    "if score == 100:\n",
    "    print(\"できた\")\n",
    "else:\n",
    "    print(\"頑張る\")"
   ]
  },
  {
   "cell_type": "code",
   "execution_count": 20,
   "id": "6cf9c8d9-3b60-489c-93a3-cf9a9876893d",
   "metadata": {},
   "outputs": [
    {
     "name": "stdout",
     "output_type": "stream",
     "text": [
      "まずまず\n"
     ]
    }
   ],
   "source": [
    "score = 50\n",
    "if score == 100:\n",
    "    print(\"できた\")\n",
    "elif score > 60:\n",
    "    print(\"頑張る\")\n",
    "else:\n",
    "    print(\"まずまず\")"
   ]
  },
  {
   "cell_type": "code",
   "execution_count": 2,
   "id": "feb121ee-9bc6-497e-b6a6-a85fee58b911",
   "metadata": {},
   "outputs": [
    {
     "name": "stdout",
     "output_type": "stream",
     "text": [
      "時間\n"
     ]
    }
   ],
   "source": [
    "time = 14\n",
    "if time > 10 and time < 18:\n",
    "    print(\"時間\")"
   ]
  },
  {
   "cell_type": "code",
   "execution_count": 4,
   "id": "cee57587-f0b6-43e4-9a5e-16c992e8571d",
   "metadata": {},
   "outputs": [
    {
     "name": "stdout",
     "output_type": "stream",
     "text": [
      "時間\n"
     ]
    }
   ],
   "source": [
    "time = 15\n",
    "if time == 10 or time == 15:\n",
    "    print(\"時間\")"
   ]
  },
  {
   "cell_type": "code",
   "execution_count": 5,
   "id": "b3a6ceab-f9ce-43dd-9214-41929155d9d4",
   "metadata": {},
   "outputs": [
    {
     "name": "stdout",
     "output_type": "stream",
     "text": [
      "退社時間\n"
     ]
    }
   ],
   "source": [
    "time = 9\n",
    "if not time == 18:\n",
    "    print(\"退社時間\")"
   ]
  },
  {
   "cell_type": "code",
   "execution_count": 7,
   "id": "8baf402c-7d7a-48c9-9e61-58525cdfd972",
   "metadata": {},
   "outputs": [
    {
     "name": "stdout",
     "output_type": "stream",
     "text": [
      "andを使う\n",
      "andを使わない\n"
     ]
    }
   ],
   "source": [
    "time = 14\n",
    "if time > 10 and time < 18:\n",
    "    print(\"andを使う\")\n",
    "    \n",
    "time = 14\n",
    "if 10 < time < 18:\n",
    "    print(\"andを使わない\")"
   ]
  },
  {
   "cell_type": "code",
   "execution_count": null,
   "id": "a5ef209e-173e-4479-9b18-94d87bd28b4c",
   "metadata": {},
   "outputs": [],
   "source": []
  }
 ],
 "metadata": {
  "kernelspec": {
   "display_name": "Python 3",
   "language": "python",
   "name": "python3"
  },
  "language_info": {
   "codemirror_mode": {
    "name": "ipython",
    "version": 3
   },
   "file_extension": ".py",
   "mimetype": "text/x-python",
   "name": "python",
   "nbconvert_exporter": "python",
   "pygments_lexer": "ipython3",
   "version": "3.8.8"
  }
 },
 "nbformat": 4,
 "nbformat_minor": 5
}
