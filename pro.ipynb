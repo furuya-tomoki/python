{
 "cells": [
  {
   "cell_type": "code",
   "execution_count": 1,
   "id": "56f9927c-07b6-4c7a-a73e-3b916508a00e",
   "metadata": {},
   "outputs": [
    {
     "name": "stdout",
     "output_type": "stream",
     "text": [
      "Hello World\n"
     ]
    }
   ],
   "source": [
    "print (\"Hello World\")"
   ]
  },
  {
   "cell_type": "code",
   "execution_count": 2,
   "id": "b4959629-d3a8-4671-809e-33d74536f005",
   "metadata": {},
   "outputs": [
    {
     "name": "stdout",
     "output_type": "stream",
     "text": [
      "7\n"
     ]
    }
   ],
   "source": [
    "print(7)"
   ]
  },
  {
   "cell_type": "code",
   "execution_count": 3,
   "id": "b0729b5d-a1ab-42b6-9112-9ef8e3db0f2f",
   "metadata": {},
   "outputs": [
    {
     "name": "stdout",
     "output_type": "stream",
     "text": [
      "12\n"
     ]
    }
   ],
   "source": [
    "print(9 + 3)"
   ]
  },
  {
   "cell_type": "code",
   "execution_count": 4,
   "id": "5f5c72ed-b6c3-434e-a395-920743fcdbc3",
   "metadata": {},
   "outputs": [
    {
     "name": "stdout",
     "output_type": "stream",
     "text": [
      "9 + 3\n"
     ]
    }
   ],
   "source": [
    "print(\"9 + 3\")"
   ]
  },
  {
   "cell_type": "code",
   "execution_count": 5,
   "id": "f09cc744-e0af-4195-8204-e1f6ff35c19e",
   "metadata": {},
   "outputs": [
    {
     "name": "stdout",
     "output_type": "stream",
     "text": [
      "4.5\n"
     ]
    }
   ],
   "source": [
    "print(9 / 2)"
   ]
  },
  {
   "cell_type": "code",
   "execution_count": 6,
   "id": "8eed2745-aae8-4c6f-855a-6d32bf04cadc",
   "metadata": {},
   "outputs": [
    {
     "name": "stdout",
     "output_type": "stream",
     "text": [
      "35\n"
     ]
    }
   ],
   "source": [
    "print(7 * 5)"
   ]
  },
  {
   "cell_type": "code",
   "execution_count": 7,
   "id": "2cc6da5b-7964-4cc2-a3fd-dc7b318cfa4f",
   "metadata": {},
   "outputs": [
    {
     "name": "stdout",
     "output_type": "stream",
     "text": [
      "1\n"
     ]
    }
   ],
   "source": [
    "print(5 % 2)"
   ]
  },
  {
   "cell_type": "code",
   "execution_count": null,
   "id": "db3b99ef-d7ba-4bd9-a6bb-cb9f5262d734",
   "metadata": {},
   "outputs": [],
   "source": []
  }
 ],
 "metadata": {
  "kernelspec": {
   "display_name": "Python 3",
   "language": "python",
   "name": "python3"
  },
  "language_info": {
   "codemirror_mode": {
    "name": "ipython",
    "version": 3
   },
   "file_extension": ".py",
   "mimetype": "text/x-python",
   "name": "python",
   "nbconvert_exporter": "python",
   "pygments_lexer": "ipython3",
   "version": "3.8.8"
  }
 },
 "nbformat": 4,
 "nbformat_minor": 5
}
